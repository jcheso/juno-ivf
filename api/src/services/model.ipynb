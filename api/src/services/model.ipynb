{
 "cells": [
  {
   "cell_type": "code",
   "execution_count": 4,
   "metadata": {},
   "outputs": [],
   "source": [
    "import matplotlib.pyplot as plt\n",
    "import numpy as np\n",
    "import pandas as pd\n",
    "import seaborn as sns\n",
    "import tensorflowjs as tfjs\n",
    "import tensorflow as tf\n",
    "from tensorflow import keras\n",
    "from tensorflow.keras import layers"
   ]
  },
  {
   "cell_type": "code",
   "execution_count": 5,
   "metadata": {},
   "outputs": [
    {
     "name": "stdout",
     "output_type": "stream",
     "text": [
      "Follicles    float32\n",
      "Eggs         float32\n",
      "dtype: object\n"
     ]
    }
   ],
   "source": [
    "columns = pd.read_csv('./data.csv', nrows=1).select_dtypes(\"number\").columns\n",
    "raw_dataset = pd.read_csv('./data.csv',usecols=columns, dtype=np.float32)\n",
    "dataset = raw_dataset.copy()\n",
    "print(raw_dataset.dtypes)"
   ]
  },
  {
   "cell_type": "code",
   "execution_count": 6,
   "metadata": {},
   "outputs": [],
   "source": [
    "train_dataset = dataset.sample(frac=0.8, random_state=0)\n",
    "test_dataset = dataset.drop(train_dataset.index)"
   ]
  },
  {
   "cell_type": "code",
   "execution_count": 7,
   "metadata": {},
   "outputs": [
    {
     "data": {
      "text/html": [
       "<div>\n",
       "<style scoped>\n",
       "    .dataframe tbody tr th:only-of-type {\n",
       "        vertical-align: middle;\n",
       "    }\n",
       "\n",
       "    .dataframe tbody tr th {\n",
       "        vertical-align: top;\n",
       "    }\n",
       "\n",
       "    .dataframe thead th {\n",
       "        text-align: right;\n",
       "    }\n",
       "</style>\n",
       "<table border=\"1\" class=\"dataframe\">\n",
       "  <thead>\n",
       "    <tr style=\"text-align: right;\">\n",
       "      <th></th>\n",
       "      <th>count</th>\n",
       "      <th>mean</th>\n",
       "      <th>std</th>\n",
       "      <th>min</th>\n",
       "      <th>25%</th>\n",
       "      <th>50%</th>\n",
       "      <th>75%</th>\n",
       "      <th>max</th>\n",
       "    </tr>\n",
       "  </thead>\n",
       "  <tbody>\n",
       "    <tr>\n",
       "      <th>Follicles</th>\n",
       "      <td>1265.0</td>\n",
       "      <td>12.871937</td>\n",
       "      <td>7.833070</td>\n",
       "      <td>0.0</td>\n",
       "      <td>7.0</td>\n",
       "      <td>12.0</td>\n",
       "      <td>17.0</td>\n",
       "      <td>61.0</td>\n",
       "    </tr>\n",
       "    <tr>\n",
       "      <th>Eggs</th>\n",
       "      <td>1265.0</td>\n",
       "      <td>12.196838</td>\n",
       "      <td>7.493774</td>\n",
       "      <td>0.0</td>\n",
       "      <td>7.0</td>\n",
       "      <td>11.0</td>\n",
       "      <td>15.0</td>\n",
       "      <td>55.0</td>\n",
       "    </tr>\n",
       "  </tbody>\n",
       "</table>\n",
       "</div>"
      ],
      "text/plain": [
       "            count       mean       std  min  25%   50%   75%   max\n",
       "Follicles  1265.0  12.871937  7.833070  0.0  7.0  12.0  17.0  61.0\n",
       "Eggs       1265.0  12.196838  7.493774  0.0  7.0  11.0  15.0  55.0"
      ]
     },
     "execution_count": 7,
     "metadata": {},
     "output_type": "execute_result"
    }
   ],
   "source": [
    "train_dataset.describe().transpose()"
   ]
  },
  {
   "cell_type": "code",
   "execution_count": 8,
   "metadata": {},
   "outputs": [],
   "source": [
    "train_features = train_dataset.copy()\n",
    "train_features.tail()\n",
    "test_features = test_dataset.copy()\n",
    "train_labels = train_features.pop('Eggs')\n",
    "test_labels = test_features.pop('Eggs')"
   ]
  },
  {
   "cell_type": "code",
   "execution_count": 9,
   "metadata": {},
   "outputs": [
    {
     "data": {
      "text/plain": [
       "array([[11.],\n",
       "       [ 7.],\n",
       "       [14.],\n",
       "       [ 9.],\n",
       "       [18.],\n",
       "       [24.],\n",
       "       [ 4.],\n",
       "       [ 8.],\n",
       "       [ 4.],\n",
       "       [16.],\n",
       "       [ 8.],\n",
       "       [ 6.],\n",
       "       [11.],\n",
       "       [11.],\n",
       "       [ 8.],\n",
       "       [18.],\n",
       "       [17.],\n",
       "       [ 6.],\n",
       "       [16.],\n",
       "       [ 8.],\n",
       "       [14.],\n",
       "       [ 8.],\n",
       "       [14.],\n",
       "       [ 6.],\n",
       "       [ 2.],\n",
       "       [ 4.],\n",
       "       [10.],\n",
       "       [ 5.],\n",
       "       [22.],\n",
       "       [ 5.],\n",
       "       [22.],\n",
       "       [ 8.],\n",
       "       [ 8.],\n",
       "       [40.],\n",
       "       [ 7.],\n",
       "       [ 8.],\n",
       "       [10.],\n",
       "       [ 1.],\n",
       "       [14.],\n",
       "       [17.],\n",
       "       [12.],\n",
       "       [ 3.],\n",
       "       [ 0.],\n",
       "       [ 2.],\n",
       "       [14.],\n",
       "       [20.],\n",
       "       [ 9.],\n",
       "       [19.],\n",
       "       [11.],\n",
       "       [12.],\n",
       "       [ 3.],\n",
       "       [ 7.],\n",
       "       [13.],\n",
       "       [ 8.],\n",
       "       [ 3.],\n",
       "       [ 3.],\n",
       "       [ 9.],\n",
       "       [10.],\n",
       "       [ 7.],\n",
       "       [ 7.],\n",
       "       [13.],\n",
       "       [14.],\n",
       "       [12.],\n",
       "       [14.],\n",
       "       [11.],\n",
       "       [ 8.],\n",
       "       [15.],\n",
       "       [18.],\n",
       "       [11.],\n",
       "       [10.],\n",
       "       [ 3.],\n",
       "       [ 5.],\n",
       "       [11.],\n",
       "       [13.],\n",
       "       [ 5.],\n",
       "       [ 4.],\n",
       "       [21.],\n",
       "       [17.],\n",
       "       [12.],\n",
       "       [ 8.],\n",
       "       [14.],\n",
       "       [ 7.],\n",
       "       [21.],\n",
       "       [22.],\n",
       "       [ 5.],\n",
       "       [ 6.],\n",
       "       [ 7.],\n",
       "       [12.],\n",
       "       [13.],\n",
       "       [ 6.],\n",
       "       [ 2.],\n",
       "       [20.],\n",
       "       [ 7.],\n",
       "       [ 2.],\n",
       "       [10.],\n",
       "       [22.],\n",
       "       [16.],\n",
       "       [ 8.],\n",
       "       [11.],\n",
       "       [13.],\n",
       "       [ 8.],\n",
       "       [13.],\n",
       "       [13.],\n",
       "       [12.],\n",
       "       [11.],\n",
       "       [10.],\n",
       "       [ 1.],\n",
       "       [13.],\n",
       "       [10.],\n",
       "       [ 7.],\n",
       "       [18.],\n",
       "       [25.],\n",
       "       [17.],\n",
       "       [ 7.],\n",
       "       [ 4.],\n",
       "       [ 5.],\n",
       "       [28.],\n",
       "       [11.],\n",
       "       [28.],\n",
       "       [17.],\n",
       "       [20.],\n",
       "       [ 8.],\n",
       "       [10.],\n",
       "       [13.],\n",
       "       [16.],\n",
       "       [ 9.],\n",
       "       [ 6.],\n",
       "       [ 6.],\n",
       "       [ 5.],\n",
       "       [ 6.],\n",
       "       [23.],\n",
       "       [24.],\n",
       "       [ 5.],\n",
       "       [11.],\n",
       "       [ 9.],\n",
       "       [ 5.],\n",
       "       [ 7.],\n",
       "       [34.],\n",
       "       [35.],\n",
       "       [ 6.],\n",
       "       [ 6.],\n",
       "       [ 6.],\n",
       "       [18.],\n",
       "       [26.],\n",
       "       [ 9.],\n",
       "       [ 8.],\n",
       "       [14.],\n",
       "       [ 9.],\n",
       "       [10.],\n",
       "       [ 7.],\n",
       "       [29.],\n",
       "       [19.],\n",
       "       [10.],\n",
       "       [13.],\n",
       "       [10.],\n",
       "       [71.],\n",
       "       [14.],\n",
       "       [12.],\n",
       "       [11.],\n",
       "       [17.],\n",
       "       [13.],\n",
       "       [ 8.],\n",
       "       [32.],\n",
       "       [17.],\n",
       "       [24.],\n",
       "       [16.],\n",
       "       [14.],\n",
       "       [12.],\n",
       "       [13.],\n",
       "       [ 4.],\n",
       "       [ 5.],\n",
       "       [14.],\n",
       "       [ 7.],\n",
       "       [10.],\n",
       "       [ 6.],\n",
       "       [ 9.],\n",
       "       [16.],\n",
       "       [ 9.],\n",
       "       [28.],\n",
       "       [ 8.],\n",
       "       [33.],\n",
       "       [12.],\n",
       "       [ 2.],\n",
       "       [13.],\n",
       "       [13.],\n",
       "       [ 1.],\n",
       "       [ 9.],\n",
       "       [35.],\n",
       "       [ 4.],\n",
       "       [ 6.],\n",
       "       [19.],\n",
       "       [12.],\n",
       "       [13.],\n",
       "       [ 5.],\n",
       "       [ 2.],\n",
       "       [29.],\n",
       "       [ 4.],\n",
       "       [ 5.],\n",
       "       [10.],\n",
       "       [13.],\n",
       "       [11.],\n",
       "       [ 1.],\n",
       "       [ 5.],\n",
       "       [ 5.],\n",
       "       [39.],\n",
       "       [20.],\n",
       "       [30.],\n",
       "       [22.],\n",
       "       [13.],\n",
       "       [ 8.],\n",
       "       [18.],\n",
       "       [18.],\n",
       "       [22.],\n",
       "       [ 9.],\n",
       "       [28.],\n",
       "       [16.],\n",
       "       [11.],\n",
       "       [19.],\n",
       "       [27.],\n",
       "       [15.],\n",
       "       [16.],\n",
       "       [ 9.],\n",
       "       [17.],\n",
       "       [16.],\n",
       "       [12.],\n",
       "       [ 9.],\n",
       "       [27.],\n",
       "       [10.],\n",
       "       [50.],\n",
       "       [11.],\n",
       "       [ 5.],\n",
       "       [13.],\n",
       "       [ 6.],\n",
       "       [44.],\n",
       "       [13.],\n",
       "       [10.],\n",
       "       [16.],\n",
       "       [13.],\n",
       "       [16.],\n",
       "       [ 1.],\n",
       "       [23.],\n",
       "       [40.],\n",
       "       [22.],\n",
       "       [10.],\n",
       "       [ 6.],\n",
       "       [ 9.],\n",
       "       [14.],\n",
       "       [19.],\n",
       "       [ 5.],\n",
       "       [31.],\n",
       "       [ 4.],\n",
       "       [21.],\n",
       "       [ 1.],\n",
       "       [ 8.],\n",
       "       [ 9.],\n",
       "       [42.],\n",
       "       [ 4.],\n",
       "       [13.],\n",
       "       [ 4.],\n",
       "       [15.],\n",
       "       [16.],\n",
       "       [11.],\n",
       "       [20.],\n",
       "       [12.],\n",
       "       [26.],\n",
       "       [12.],\n",
       "       [34.],\n",
       "       [11.],\n",
       "       [ 3.],\n",
       "       [ 3.],\n",
       "       [12.],\n",
       "       [27.],\n",
       "       [14.],\n",
       "       [ 8.],\n",
       "       [13.],\n",
       "       [20.],\n",
       "       [ 7.],\n",
       "       [17.],\n",
       "       [ 5.],\n",
       "       [14.],\n",
       "       [26.],\n",
       "       [27.],\n",
       "       [18.],\n",
       "       [10.],\n",
       "       [12.],\n",
       "       [12.],\n",
       "       [ 2.],\n",
       "       [ 9.],\n",
       "       [18.],\n",
       "       [10.],\n",
       "       [ 9.],\n",
       "       [ 7.],\n",
       "       [ 5.],\n",
       "       [ 6.],\n",
       "       [33.],\n",
       "       [12.],\n",
       "       [ 9.],\n",
       "       [10.],\n",
       "       [10.],\n",
       "       [ 2.],\n",
       "       [ 6.],\n",
       "       [10.],\n",
       "       [ 3.],\n",
       "       [11.],\n",
       "       [11.],\n",
       "       [11.],\n",
       "       [ 8.],\n",
       "       [27.],\n",
       "       [20.],\n",
       "       [ 8.],\n",
       "       [19.],\n",
       "       [22.],\n",
       "       [ 4.],\n",
       "       [19.],\n",
       "       [16.],\n",
       "       [ 4.]], dtype=float32)"
      ]
     },
     "execution_count": 9,
     "metadata": {},
     "output_type": "execute_result"
    }
   ],
   "source": [
    "from numpy import float32\n",
    "np.array(train_features, dtype=float32)\n",
    "np.array(test_features, dtype=float32)"
   ]
  },
  {
   "cell_type": "code",
   "execution_count": 10,
   "metadata": {},
   "outputs": [],
   "source": [
    "follicles = np.array(train_features['Follicles'], dtype=float32)"
   ]
  },
  {
   "cell_type": "code",
   "execution_count": 11,
   "metadata": {},
   "outputs": [],
   "source": [
    "follicles_normalizer = layers.Normalization(input_shape=[1,], axis=None)\n",
    "follicles_normalizer.adapt(follicles)"
   ]
  },
  {
   "cell_type": "code",
   "execution_count": 12,
   "metadata": {},
   "outputs": [
    {
     "name": "stdout",
     "output_type": "stream",
     "text": [
      "Model: \"sequential\"\n",
      "_________________________________________________________________\n",
      " Layer (type)                Output Shape              Param #   \n",
      "=================================================================\n",
      " normalization (Normalizatio  (None, 1)                3         \n",
      " n)                                                              \n",
      "                                                                 \n",
      " dense (Dense)               (None, 1)                 2         \n",
      "                                                                 \n",
      "=================================================================\n",
      "Total params: 5\n",
      "Trainable params: 2\n",
      "Non-trainable params: 3\n",
      "_________________________________________________________________\n"
     ]
    }
   ],
   "source": [
    "follicles_model = keras.Sequential([follicles_normalizer, layers.Dense(units=1,dtype=tf.float32)])\n",
    "follicles_model.summary()"
   ]
  },
  {
   "cell_type": "code",
   "execution_count": 13,
   "metadata": {},
   "outputs": [],
   "source": [
    "from numpy import dtype\n",
    "\n",
    "\n",
    "follicles_model.compile(\n",
    "    optimizer=tf.keras.optimizers.Adam(learning_rate=0.1),\n",
    "    loss='mean_absolute_error'\n",
    "    )"
   ]
  },
  {
   "cell_type": "code",
   "execution_count": 14,
   "metadata": {},
   "outputs": [
    {
     "name": "stdout",
     "output_type": "stream",
     "text": [
      "CPU times: total: 18 s\n",
      "Wall time: 14.1 s\n"
     ]
    }
   ],
   "source": [
    "%%time\n",
    "history = follicles_model.fit(\n",
    "    train_features['Follicles'],\n",
    "    train_labels,\n",
    "    epochs=100,\n",
    "    # Suppress logging.\n",
    "    verbose=0,\n",
    "    # Calculate validation results on 20% of the training data.\n",
    "    validation_split = 0.2)"
   ]
  },
  {
   "cell_type": "code",
   "execution_count": 15,
   "metadata": {},
   "outputs": [
    {
     "data": {
      "text/html": [
       "<div>\n",
       "<style scoped>\n",
       "    .dataframe tbody tr th:only-of-type {\n",
       "        vertical-align: middle;\n",
       "    }\n",
       "\n",
       "    .dataframe tbody tr th {\n",
       "        vertical-align: top;\n",
       "    }\n",
       "\n",
       "    .dataframe thead th {\n",
       "        text-align: right;\n",
       "    }\n",
       "</style>\n",
       "<table border=\"1\" class=\"dataframe\">\n",
       "  <thead>\n",
       "    <tr style=\"text-align: right;\">\n",
       "      <th></th>\n",
       "      <th>loss</th>\n",
       "      <th>val_loss</th>\n",
       "      <th>epoch</th>\n",
       "    </tr>\n",
       "  </thead>\n",
       "  <tbody>\n",
       "    <tr>\n",
       "      <th>95</th>\n",
       "      <td>3.313537</td>\n",
       "      <td>3.552677</td>\n",
       "      <td>95</td>\n",
       "    </tr>\n",
       "    <tr>\n",
       "      <th>96</th>\n",
       "      <td>3.312792</td>\n",
       "      <td>3.531220</td>\n",
       "      <td>96</td>\n",
       "    </tr>\n",
       "    <tr>\n",
       "      <th>97</th>\n",
       "      <td>3.323219</td>\n",
       "      <td>3.532616</td>\n",
       "      <td>97</td>\n",
       "    </tr>\n",
       "    <tr>\n",
       "      <th>98</th>\n",
       "      <td>3.322315</td>\n",
       "      <td>3.539199</td>\n",
       "      <td>98</td>\n",
       "    </tr>\n",
       "    <tr>\n",
       "      <th>99</th>\n",
       "      <td>3.311550</td>\n",
       "      <td>3.530574</td>\n",
       "      <td>99</td>\n",
       "    </tr>\n",
       "  </tbody>\n",
       "</table>\n",
       "</div>"
      ],
      "text/plain": [
       "        loss  val_loss  epoch\n",
       "95  3.313537  3.552677     95\n",
       "96  3.312792  3.531220     96\n",
       "97  3.323219  3.532616     97\n",
       "98  3.322315  3.539199     98\n",
       "99  3.311550  3.530574     99"
      ]
     },
     "execution_count": 15,
     "metadata": {},
     "output_type": "execute_result"
    }
   ],
   "source": [
    "hist = pd.DataFrame(history.history)\n",
    "hist['epoch'] = history.epoch\n",
    "hist.tail()"
   ]
  },
  {
   "cell_type": "code",
   "execution_count": 16,
   "metadata": {},
   "outputs": [],
   "source": [
    "def plot_loss(history):\n",
    "  plt.plot(history.history['loss'], label='loss')\n",
    "  plt.plot(history.history['val_loss'], label='val_loss')\n",
    "  plt.ylim([0, 10])\n",
    "  plt.xlabel('Epoch')\n",
    "  plt.ylabel('Error [Eggs]')\n",
    "  plt.legend()\n",
    "  plt.grid(True)"
   ]
  },
  {
   "cell_type": "code",
   "execution_count": 17,
   "metadata": {},
   "outputs": [
    {
     "data": {
      "image/png": "[encoded data removed]",
      "text/plain": [
       "<Figure size 432x288 with 1 Axes>"
      ]
     },
     "metadata": {
      "needs_background": "light"
     },
     "output_type": "display_data"
    }
   ],
   "source": [
    "plot_loss(history)\n"
   ]
  },
  {
   "cell_type": "code",
   "execution_count": 18,
   "metadata": {},
   "outputs": [],
   "source": [
    "test_results = {}\n",
    "\n",
    "test_results['follicles_model'] = follicles_model.evaluate(\n",
    "    test_features['Follicles'],\n",
    "    test_labels, verbose=0)"
   ]
  },
  {
   "cell_type": "code",
   "execution_count": 19,
   "metadata": {},
   "outputs": [
    {
     "name": "stdout",
     "output_type": "stream",
     "text": [
      "4/4 [==============================] - 0s 3ms/step\n"
     ]
    }
   ],
   "source": [
    "x = tf.linspace(0.0, 80, 100)\n",
    "y = follicles_model.predict(x)"
   ]
  },
  {
   "cell_type": "code",
   "execution_count": 20,
   "metadata": {},
   "outputs": [],
   "source": [
    "def plot_result(x, y):\n",
    "  plt.scatter(train_features['Follicles'], train_labels, label='Data')\n",
    "  plt.plot(x, y, color='k', label='Predictions')\n",
    "  plt.xlabel('Follicles')\n",
    "  plt.ylabel('Eggs')\n",
    "  plt.legend()"
   ]
  },
  {
   "cell_type": "code",
   "execution_count": 21,
   "metadata": {},
   "outputs": [
    {
     "data": {
      "image/png": "[encoded data removed]",
      "text/plain": [
       "<Figure size 432x288 with 1 Axes>"
      ]
     },
     "metadata": {
      "needs_background": "light"
     },
     "output_type": "display_data"
    }
   ],
   "source": [
    "plot_result(x, y)\n"
   ]
  },
  {
   "cell_type": "code",
   "execution_count": 22,
   "metadata": {},
   "outputs": [
    {
     "data": {
      "text/html": [
       "<div>\n",
       "<style scoped>\n",
       "    .dataframe tbody tr th:only-of-type {\n",
       "        vertical-align: middle;\n",
       "    }\n",
       "\n",
       "    .dataframe tbody tr th {\n",
       "        vertical-align: top;\n",
       "    }\n",
       "\n",
       "    .dataframe thead th {\n",
       "        text-align: right;\n",
       "    }\n",
       "</style>\n",
       "<table border=\"1\" class=\"dataframe\">\n",
       "  <thead>\n",
       "    <tr style=\"text-align: right;\">\n",
       "      <th></th>\n",
       "      <th>follicles_model</th>\n",
       "    </tr>\n",
       "  </thead>\n",
       "  <tbody>\n",
       "    <tr>\n",
       "      <th>Mean absolute error [Eggs]</th>\n",
       "      <td>3.562767</td>\n",
       "    </tr>\n",
       "  </tbody>\n",
       "</table>\n",
       "</div>"
      ],
      "text/plain": [
       "                            follicles_model\n",
       "Mean absolute error [Eggs]         3.562767"
      ]
     },
     "execution_count": 22,
     "metadata": {},
     "output_type": "execute_result"
    }
   ],
   "source": [
    "pd.DataFrame(test_results, index=['Mean absolute error [Eggs]'])\n"
   ]
  },
  {
   "cell_type": "code",
   "execution_count": 23,
   "metadata": {},
   "outputs": [
    {
     "name": "stdout",
     "output_type": "stream",
     "text": [
      "10/10 [==============================] - 0s 2ms/step\n"
     ]
    },
    {
     "data": {
      "image/png": "[encoded data removed]",
      "text/plain": [
       "<Figure size 432x288 with 1 Axes>"
      ]
     },
     "metadata": {
      "needs_background": "light"
     },
     "output_type": "display_data"
    }
   ],
   "source": [
    "# print(np.array(test_features['Follicles']))\n",
    "test_vals = np.array(test_features['Follicles'])\n",
    "test_predictions = follicles_model.predict(test_vals)\n",
    "a = plt.axes(aspect='equal')\n",
    "plt.scatter(test_labels, test_predictions)\n",
    "plt.xlabel('True Values [Eggs]')\n",
    "plt.ylabel('Predictions [Eggs]')\n",
    "lims = [0, 50]\n",
    "plt.xlim(lims)\n",
    "plt.ylim(lims)\n",
    "_ = plt.plot(lims, lims)"
   ]
  },
  {
   "cell_type": "code",
   "execution_count": 24,
   "metadata": {},
   "outputs": [
    {
     "name": "stdout",
     "output_type": "stream",
     "text": [
      "weight count with shape () and dtype int64 was auto converted to the type int32\n"
     ]
    }
   ],
   "source": [
    "tfjs.converters.save_keras_model(follicles_model, './eggPredictionModel')\n"
   ]
  },
  {
   "cell_type": "code",
   "execution_count": 25,
   "metadata": {},
   "outputs": [
    {
     "data": {
      "text/plain": [
       "tf.float32"
      ]
     },
     "execution_count": 25,
     "metadata": {},
     "output_type": "execute_result"
    }
   ],
   "source": [
    "follicles_model.inputs[0].dtype\n"
   ]
  },
  {
   "cell_type": "code",
   "execution_count": 26,
   "metadata": {},
   "outputs": [
    {
     "data": {
      "text/plain": [
       "tf.float32"
      ]
     },
     "execution_count": 26,
     "metadata": {},
     "output_type": "execute_result"
    }
   ],
   "source": [
    "follicles_model.outputs[0].dtype"
   ]
  },
  {
   "cell_type": "code",
   "execution_count": 132,
   "metadata": {},
   "outputs": [],
   "source": [
    "def build_and_compile_model(norm):\n",
    "  model = keras.Sequential([\n",
    "      norm,\n",
    "      layers.Dense(16, activation='relu',dtype=tf.float32),\n",
    "      layers.Dense(32, activation='relu',dtype=tf.float32),\n",
    "      layers.Dense(1,dtype=tf.float32)\n",
    "  ])\n",
    "\n",
    "  model.compile(loss='mean_absolute_error',\n",
    "                optimizer=tf.keras.optimizers.Adam(0.001))\n",
    "  return model"
   ]
  },
  {
   "cell_type": "code",
   "execution_count": 133,
   "metadata": {},
   "outputs": [],
   "source": [
    "dnn_follicle_model = build_and_compile_model(follicles_normalizer)\n"
   ]
  },
  {
   "cell_type": "code",
   "execution_count": 140,
   "metadata": {},
   "outputs": [],
   "source": [
    "history = dnn_follicle_model.fit(\n",
    "    train_features['Follicles'],\n",
    "    train_labels,\n",
    "    validation_split=0.2,\n",
    "    verbose=0, epochs=100)"
   ]
  },
  {
   "cell_type": "code",
   "execution_count": 141,
   "metadata": {},
   "outputs": [
    {
     "data": {
      "image/png": "[encoded data removed]",
      "text/plain": [
       "<Figure size 432x288 with 1 Axes>"
      ]
     },
     "metadata": {
      "needs_background": "light"
     },
     "output_type": "display_data"
    }
   ],
   "source": [
    "plot_loss(history)"
   ]
  },
  {
   "cell_type": "code",
   "execution_count": 142,
   "metadata": {},
   "outputs": [
    {
     "name": "stdout",
     "output_type": "stream",
     "text": [
      "4/4 [==============================] - 0s 1ms/step\n"
     ]
    },
    {
     "data": {
      "image/png": "[encoded data removed]",
      "text/plain": [
       "<Figure size 432x288 with 1 Axes>"
      ]
     },
     "metadata": {
      "needs_background": "light"
     },
     "output_type": "display_data"
    }
   ],
   "source": [
    "x = tf.linspace(0.0, 80, 100)\n",
    "y = dnn_follicle_model.predict(x)\n",
    "plot_result(x, y)\n"
   ]
  },
  {
   "cell_type": "code",
   "execution_count": 143,
   "metadata": {},
   "outputs": [],
   "source": [
    "test_results['dnn_follicle_model'] = dnn_follicle_model.evaluate(\n",
    "    test_features['Follicles'], test_labels,\n",
    "    verbose=0)"
   ]
  },
  {
   "cell_type": "code",
   "execution_count": 144,
   "metadata": {},
   "outputs": [
    {
     "name": "stdout",
     "output_type": "stream",
     "text": [
      "10/10 [==============================] - 0s 1ms/step\n"
     ]
    },
    {
     "data": {
      "image/png": "[encoded data removed]",
      "text/plain": [
       "<Figure size 432x288 with 1 Axes>"
      ]
     },
     "metadata": {
      "needs_background": "light"
     },
     "output_type": "display_data"
    }
   ],
   "source": [
    "test_vals = np.array(test_features['Follicles'])\n",
    "test_predictions = dnn_follicle_model.predict(test_vals)\n",
    "a = plt.axes(aspect='equal')\n",
    "plt.scatter(test_labels, test_predictions)\n",
    "plt.xlabel('True Values [Eggs]')\n",
    "plt.ylabel('Predictions [Eggs]')\n",
    "lims = [0, 50]\n",
    "plt.xlim(lims)\n",
    "plt.ylim(lims)\n",
    "_ = plt.plot(lims, lims)"
   ]
  },
  {
   "cell_type": "code",
   "execution_count": 145,
   "metadata": {},
   "outputs": [
    {
     "data": {
      "text/html": [
       "<div>\n",
       "<style scoped>\n",
       "    .dataframe tbody tr th:only-of-type {\n",
       "        vertical-align: middle;\n",
       "    }\n",
       "\n",
       "    .dataframe tbody tr th {\n",
       "        vertical-align: top;\n",
       "    }\n",
       "\n",
       "    .dataframe thead th {\n",
       "        text-align: right;\n",
       "    }\n",
       "</style>\n",
       "<table border=\"1\" class=\"dataframe\">\n",
       "  <thead>\n",
       "    <tr style=\"text-align: right;\">\n",
       "      <th></th>\n",
       "      <th>follicles_model</th>\n",
       "      <th>dnn_follicle_model</th>\n",
       "    </tr>\n",
       "  </thead>\n",
       "  <tbody>\n",
       "    <tr>\n",
       "      <th>Mean absolute error [Eggs]</th>\n",
       "      <td>3.562767</td>\n",
       "      <td>3.5249</td>\n",
       "    </tr>\n",
       "  </tbody>\n",
       "</table>\n",
       "</div>"
      ],
      "text/plain": [
       "                            follicles_model  dnn_follicle_model\n",
       "Mean absolute error [Eggs]         3.562767              3.5249"
      ]
     },
     "execution_count": 145,
     "metadata": {},
     "output_type": "execute_result"
    }
   ],
   "source": [
    "pd.DataFrame(test_results, index=['Mean absolute error [Eggs]'])"
   ]
  }
 ],
 "metadata": {
  "kernelspec": {
   "display_name": "Python 3.10.4 64-bit",
   "language": "python",
   "name": "python3"
  },
  "language_info": {
   "codemirror_mode": {
    "name": "ipython",
    "version": 3
   },
   "file_extension": ".py",
   "mimetype": "text/x-python",
   "name": "python",
   "nbconvert_exporter": "python",
   "pygments_lexer": "ipython3",
   "version": "3.10.4"
  },
  "orig_nbformat": 4,
  "vscode": {
   "interpreter": {
    "hash": "369f2c481f4da34e4445cda3fffd2e751bd1c4d706f27375911949ba6bb62e1c"
   }
  }
 },
 "nbformat": 4,
 "nbformat_minor": 2
}
