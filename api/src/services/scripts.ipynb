{
 "cells": [
  {
   "cell_type": "code",
   "execution_count": 35,
   "metadata": {},
   "outputs": [
    {
     "name": "stdout",
     "output_type": "stream",
     "text": [
      "\n",
      "Loaded model\n",
      "\n"
     ]
    },
    {
     "name": "stderr",
     "output_type": "stream",
     "text": [
      "c:\\Python310\\lib\\site-packages\\sklearn\\base.py:329: UserWarning: Trying to unpickle estimator LinearRegression from version 1.0.2 when using version 1.1.0. This might lead to breaking code or invalid results. Use at your own risk. For more info please refer to:\n",
      "https://scikit-learn.org/stable/modules/model_persistence.html#security-maintainability-limitations\n",
      "  warnings.warn(\n"
     ]
    }
   ],
   "source": [
    "import pickle\n",
    "from sklearn.linear_model import LinearRegression\n",
    "import json\n",
    "file = open(\"./DoT_Model.pkcls\",'rb')\n",
    "model = pickle.load(file)\n",
    "print(\"\\nLoaded model\\n\")\n"
   ]
  },
  {
   "cell_type": "code",
   "execution_count": 38,
   "metadata": {},
   "outputs": [
    {
     "data": {
      "text/plain": [
       "array([0.70601212])"
      ]
     },
     "execution_count": 38,
     "metadata": {},
     "output_type": "execute_result"
    }
   ],
   "source": [
    "model.coefficients"
   ]
  },
  {
   "cell_type": "code",
   "execution_count": 39,
   "metadata": {},
   "outputs": [
    {
     "data": {
      "text/plain": [
       "3.0297298881764334"
      ]
     },
     "execution_count": 39,
     "metadata": {},
     "output_type": "execute_result"
    }
   ],
   "source": [
    "model.intercept"
   ]
  },
  {
   "cell_type": "code",
   "execution_count": 37,
   "metadata": {},
   "outputs": [
    {
     "name": "stdout",
     "output_type": "stream",
     "text": [
      "Help on LinearModel in module Orange.regression.linear object:\n",
      "\n",
      "class LinearModel(Orange.regression.base_regression.SklModelRegression)\n",
      " |  LinearModel(skl_model)\n",
      " |  \n",
      " |  Method resolution order:\n",
      " |      LinearModel\n",
      " |      Orange.regression.base_regression.SklModelRegression\n",
      " |      Orange.base.SklModel\n",
      " |      Orange.regression.base_regression.ModelRegression\n",
      " |      Orange.base.Model\n",
      " |      Orange.util.Reprable\n",
      " |      builtins.object\n",
      " |  \n",
      " |  Methods defined here:\n",
      " |  \n",
      " |  __str__(self)\n",
      " |      Return str(self).\n",
      " |  \n",
      " |  ----------------------------------------------------------------------\n",
      " |  Readonly properties defined here:\n",
      " |  \n",
      " |  coefficients\n",
      " |  \n",
      " |  intercept\n",
      " |  \n",
      " |  ----------------------------------------------------------------------\n",
      " |  Methods inherited from Orange.base.SklModel:\n",
      " |  \n",
      " |  __init__(self, skl_model)\n",
      " |      Initialize self.  See help(type(self)) for accurate signature.\n",
      " |  \n",
      " |  __repr__(self)\n",
      " |      Return repr(self).\n",
      " |  \n",
      " |  predict(self, X)\n",
      " |  \n",
      " |  ----------------------------------------------------------------------\n",
      " |  Data and other attributes inherited from Orange.base.SklModel:\n",
      " |  \n",
      " |  used_vals = None\n",
      " |  \n",
      " |  ----------------------------------------------------------------------\n",
      " |  Methods inherited from Orange.base.Model:\n",
      " |  \n",
      " |  __call__(self, data, ret=0)\n",
      " |      Call self as a function.\n",
      " |  \n",
      " |  __getstate__(self)\n",
      " |      Skip (possibly large) data when pickling models\n",
      " |  \n",
      " |  backmap_probs(self, probs, n_values, backmappers)\n",
      " |  \n",
      " |  backmap_value(self, value, mapped_probs, n_values, backmappers)\n",
      " |  \n",
      " |  data_to_model_domain(self, data: Orange.data.table.Table, progress_callback: Callable = <function dummy_callback at 0x0000022A6EB8C040>) -> Orange.data.table.Table\n",
      " |      Transforms data to the model domain if possible.\n",
      " |      \n",
      " |      Parameters\n",
      " |      ----------\n",
      " |      data\n",
      " |          Data to be transformed to the model domain\n",
      " |      progress_callback\n",
      " |          Callback - callable - to report the progress\n",
      " |      \n",
      " |      Returns\n",
      " |      -------\n",
      " |      Transformed data table\n",
      " |      \n",
      " |      Raises\n",
      " |      ------\n",
      " |      DomainTransformationError\n",
      " |          Error indicates that transformation is not possible since domains\n",
      " |          are not compatible\n",
      " |  \n",
      " |  get_backmappers(self, data)\n",
      " |  \n",
      " |  predict_storage(self, data)\n",
      " |  \n",
      " |  ----------------------------------------------------------------------\n",
      " |  Data and other attributes inherited from Orange.base.Model:\n",
      " |  \n",
      " |  Probs = 1\n",
      " |  \n",
      " |  Value = 0\n",
      " |  \n",
      " |  ValueProbs = 2\n",
      " |  \n",
      " |  supports_multiclass = False\n",
      " |  \n",
      " |  supports_weights = False\n",
      " |  \n",
      " |  ----------------------------------------------------------------------\n",
      " |  Data descriptors inherited from Orange.util.Reprable:\n",
      " |  \n",
      " |  __dict__\n",
      " |      dictionary for instance variables (if defined)\n",
      " |  \n",
      " |  __weakref__\n",
      " |      list of weak references to the object (if defined)\n",
      "\n"
     ]
    }
   ],
   "source": [
    "help(model)"
   ]
  }
 ],
 "metadata": {
  "kernelspec": {
   "display_name": "Python 3.10.4 64-bit",
   "language": "python",
   "name": "python3"
  },
  "language_info": {
   "codemirror_mode": {
    "name": "ipython",
    "version": 3
   },
   "file_extension": ".py",
   "mimetype": "text/x-python",
   "name": "python",
   "nbconvert_exporter": "python",
   "pygments_lexer": "ipython3",
   "version": "3.10.4"
  },
  "orig_nbformat": 4,
  "vscode": {
   "interpreter": {
    "hash": "369f2c481f4da34e4445cda3fffd2e751bd1c4d706f27375911949ba6bb62e1c"
   }
  }
 },
 "nbformat": 4,
 "nbformat_minor": 2
}
